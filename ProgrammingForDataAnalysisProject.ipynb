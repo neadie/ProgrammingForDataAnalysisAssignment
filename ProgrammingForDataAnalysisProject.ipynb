{
 "cells": [
  {
   "cell_type": "markdown",
   "metadata": {},
   "source": [
    "# The numpy.random package"
   ]
  },
  {
   "cell_type": "markdown",
   "metadata": {},
   "source": [
    "### 1. Explain the overall purpose of the package.\n"
   ]
  },
  {
   "cell_type": "markdown",
   "metadata": {},
   "source": [
    "Numpy.random is a sub package of the numpy package . This package generates random numbers.[[4](https://pynative.com/python-random-module/)]\n",
    "This package \n",
    "- penerate random numbers for various distributions including integer and floats.\n",
    "- random Sampling and choose elements from the population.\n",
    "- shuffle the sequence data.\n",
    "- seed the random generator.\n",
    "- generate random strings and password.\n",
    "\n"
   ]
  },
  {
   "cell_type": "markdown",
   "metadata": {},
   "source": [
    "### 2. Explain the use of the “Simple random data” and “Permutations” functions.\n"
   ]
  },
  {
   "cell_type": "markdown",
   "metadata": {},
   "source": [
    "#### Simple random data"
   ]
  },
  {
   "cell_type": "markdown",
   "metadata": {},
   "source": [
    "##### Rand Function "
   ]
  },
  {
   "cell_type": "code",
   "execution_count": 3,
   "metadata": {},
   "outputs": [
    {
     "data": {
      "text/plain": [
       "array([[0.66705883, 0.66416934],\n",
       "       [0.85956125, 0.45152145],\n",
       "       [0.61294146, 0.10530522]])"
      ]
     },
     "execution_count": 3,
     "metadata": {},
     "output_type": "execute_result"
    }
   ],
   "source": [
    "import numpy as np\n",
    "np.random.rand(3,2)"
   ]
  },
  {
   "cell_type": "markdown",
   "metadata": {},
   "source": [
    "The function above created an array of three rows and two columns thus the array  has 6 float random values . The parameters of this function tell you the shape of the array\n",
    "\n",
    "##### How random numbers get generated \n",
    "\n",
    "Create an array of the given shape and populate it with random samples from a uniform distribution over (0,1) thus each value between 0 and 1 has an equal chance of being selected from the sample "
   ]
  },
  {
   "cell_type": "code",
   "execution_count": 4,
   "metadata": {},
   "outputs": [
    {
     "data": {
      "text/plain": [
       "(array([10162.,  9985.,  9976., 10021., 10022.,  9946.,  9993.,  9926.,\n",
       "         9942., 10027.]),\n",
       " array([2.07891215e-05, 1.00018149e-01, 2.00015509e-01, 3.00012869e-01,\n",
       "        4.00010229e-01, 5.00007589e-01, 6.00004949e-01, 7.00002309e-01,\n",
       "        7.99999669e-01, 8.99997029e-01, 9.99994389e-01]),\n",
       " <a list of 10 Patch objects>)"
      ]
     },
     "execution_count": 4,
     "metadata": {},
     "output_type": "execute_result"
    },
    {
     "data": {
      "image/png": "[encoded data removed]",
      "text/plain": [
       "<Figure size 432x288 with 1 Axes>"
      ]
     },
     "metadata": {
      "needs_background": "light"
     },
     "output_type": "display_data"
    }
   ],
   "source": [
    "import matplotlib.pyplot as plt \n",
    "x =  np.random.rand(100000)\n",
    "plt.hist(x)"
   ]
  },
  {
   "cell_type": "markdown",
   "metadata": {},
   "source": [
    "Histrogram above is a picture of the different random numbers generated. Like a bar chart but has contimous axis in the bottom . This histrpgram above displays 10000 numbers generated into an unifrom distribution "
   ]
  },
  {
   "cell_type": "markdown",
   "metadata": {},
   "source": [
    "#### Randn Function"
   ]
  },
  {
   "cell_type": "markdown",
   "metadata": {},
   "source": [
    "Creates an array of specified shape and fills it with random values as per standard normal distribution.\n",
    "\n",
    "If positive arguments are provided, randn generates an array of shape (d0, d1, …, dn), filled with random floats sampled from a univariate “normal” (Gaussian) distribution of mean 0 and variance 1 (if any of the d_i are floats, they are first converted to integers by truncation). A single float randomly sampled from the distribution is returned if no argument is provided.[[5](https://www.geeksforgeeks.org/numpy-random-randn-python/)]"
   ]
  },
  {
   "cell_type": "code",
   "execution_count": 2,
   "metadata": {},
   "outputs": [
    {
     "data": {
      "text/plain": [
       "-0.17944638135547622"
      ]
     },
     "execution_count": 2,
     "metadata": {},
     "output_type": "execute_result"
    }
   ],
   "source": [
    "np.random.randn()"
   ]
  },
  {
   "cell_type": "markdown",
   "metadata": {},
   "source": [
    "Parameters\n",
    "- d0, d1, ..., dn : [int, optional]Dimension of the returned array we require, \n",
    "     If no argument is given a single Python float is returned.\n",
    "The snippet above is an example of randn() with no parmeters give\n",
    "\n",
    "\n",
    "Returns\n",
    "Array of defined shape, filled with random floating-point samples from \n",
    "the standard normal distribution. Only returns a float like above if no parmeters are given "
   ]
  },
  {
   "cell_type": "code",
   "execution_count": 4,
   "metadata": {},
   "outputs": [
    {
     "data": {
      "text/plain": [
       "array([[ 1.30221395, -0.51076144, -0.68381547,  0.63725297],\n",
       "       [-2.49852095,  0.540497  ,  0.53344439,  0.42250467],\n",
       "       [ 1.12180475, -1.14795602,  0.76359755, -0.59444819]])"
      ]
     },
     "execution_count": 4,
     "metadata": {},
     "output_type": "execute_result"
    }
   ],
   "source": [
    "np.random.randn(3, 4)"
   ]
  },
  {
   "cell_type": "markdown",
   "metadata": {},
   "source": [
    "Example above is an example of the randn fucntion which returns 3 rows ,4 coulmns which in turn returns 12 floats "
   ]
  },
  {
   "cell_type": "markdown",
   "metadata": {},
   "source": [
    "#### Randint Function "
   ]
  },
  {
   "cell_type": "markdown",
   "metadata": {},
   "source": [
    "Return random integers from low (inclusive) to high (exclusive).\n",
    "\n",
    "Return random integers from the **discrete uniform** distribution of the specified dtype in the “half-open” interval [[6](https://docs.scipy.org/doc/numpy-1.15.0/reference/generated/numpy.random.randint.html#numpy.random.randint)]"
   ]
  },
  {
   "cell_type": "markdown",
   "metadata": {},
   "source": [
    "##### Paramters\n",
    "\n",
    "-Low Lowest (signed) integer to be drawn from the distribution (unless high=None, in which case this parameter is one above the highest such integer).\n",
    "high : int, optional\n",
    "If provided, one above the largest (signed) integer to be drawn from the distribution (see above for behavior if high=None).\n",
    "\n",
    "size : int or tuple of ints, optional\n",
    "Output shape. If the given shape is, e.g., (m, n, k), then m * n * k samples are drawn. Default is None, in which case a single value is returned.\n",
    "\n",
    "dtype : dtype, optional\n",
    "Desired dtype of the result. All dtypes are determined by their name, i.e., ‘int64’, ‘int’, etc, so byteorder is not available and a specific precision may have different C types depending on the platform. The default value is ‘np.int’."
   ]
  },
  {
   "cell_type": "code",
   "execution_count": null,
   "metadata": {},
   "outputs": [],
   "source": [
    "numpy.random.randint(low, high=None, size=None, dtype='l')"
   ]
  },
  {
   "cell_type": "code",
   "execution_count": 4,
   "metadata": {},
   "outputs": [
    {
     "data": {
      "text/plain": [
       "array([0, 1, 1, 1, 1, 0, 0, 0, 1, 0])"
      ]
     },
     "execution_count": 4,
     "metadata": {},
     "output_type": "execute_result"
    }
   ],
   "source": [
    "np.random.randint(2, size=10)\n"
   ]
  },
  {
   "cell_type": "markdown",
   "metadata": {},
   "source": [
    "### 3. Explain the use and purpose of at least five “Distributions” functions.\n"
   ]
  },
  {
   "cell_type": "markdown",
   "metadata": {},
   "source": [
    "#### Unifrom Distribution "
   ]
  },
  {
   "cell_type": "markdown",
   "metadata": {},
   "source": [
    "Draw samples from a uniform distribution.\n",
    "\n",
    "Samples are uniformly distributed over the half-open interval [low, high) (includes low, but excludes high). In other words, any value within the given interval is equally likely to be drawn by uniform.\n",
    "\n",
    "_Parameters_\n",
    "- low : float or array_like of floats, optional\n",
    "Lower boundary of the output interval. All values generated will be greater than or equal to low. The default value is 0.\n",
    "\n",
    "- high : float or array_like of floats\n",
    "Upper boundary of the output interval. All values generated will be less than high. The default value is 1.0.\n",
    "\n",
    "- size : int or tuple of ints, optional\n",
    "Output shape. If the given shape is, e.g., (m, n, k), then m * n * k samples are drawn. If size is None (default), a single value is returned if low and high are both scalars. Otherwise, np.broadcast(low, high).size samples are drawn.\n",
    "\n",
    "_Returns_:\t\n",
    "out : ndarray or scalar\n",
    "Drawn samples from the parameterized uniform distribution.[[1](https://docs.scipy.org/doc/numpy-1.15.0/reference/generated/numpy.random.uniform.html#numpy.random.uniform)]"
   ]
  },
  {
   "cell_type": "code",
   "execution_count": 9,
   "metadata": {},
   "outputs": [
    {
     "data": {
      "text/plain": [
       "(array([ 92., 106., 104.,  99.,  98.,  91., 109.,  98.,  98., 105.]),\n",
       " array([ 1.2580318 , 11.11686299, 20.97569417, 30.83452535, 40.69335654,\n",
       "        50.55218772, 60.4110189 , 70.26985009, 80.12868127, 89.98751245,\n",
       "        99.84634364]),\n",
       " <a list of 10 Patch objects>)"
      ]
     },
     "execution_count": 9,
     "metadata": {},
     "output_type": "execute_result"
    },
    {
     "data": {
      "image/png": "[encoded data removed]",
      "text/plain": [
       "<Figure size 432x288 with 1 Axes>"
      ]
     },
     "metadata": {
      "needs_background": "light"
     },
     "output_type": "display_data"
    }
   ],
   "source": [
    "x= np.random.uniform(1,100,1000)\n",
    "plt.hist(x)\n"
   ]
  },
  {
   "cell_type": "markdown",
   "metadata": {},
   "source": [
    "The histrogram below displays values between 1 and &lt; 100"
   ]
  },
  {
   "cell_type": "markdown",
   "metadata": {},
   "source": [
    "#### Normal Distribution "
   ]
  },
  {
   "cell_type": "markdown",
   "metadata": {},
   "source": [
    "The normal distribution refers to a family of continuous probability distributions described by the normal equation [[2](https://stattrek.com/probability-distributions/normal.aspx)] \n",
    "\n",
    "The Normal Equation. The value of the random variable Y is:\n",
    "\n",
    "$$Y = { 1/[ σ * \\sqrt{2π} ] } * e-(x - μ)^{2}/2σ^{2}$$\n",
    "\n",
    "where X is a normal random variable, μ is the mean, σ is the standard deviation, π is approximately 3.14159, and e is approximately 2.71828."
   ]
  },
  {
   "cell_type": "code",
   "execution_count": 8,
   "metadata": {},
   "outputs": [
    {
     "data": {
      "text/plain": [
       "(array([  3.,  19.,  70., 159., 282., 226., 163.,  57.,  17.,   4.]),\n",
       " array([-0.33563413, -0.26764766, -0.19966119, -0.13167472, -0.06368825,\n",
       "         0.00429822,  0.07228469,  0.14027116,  0.20825763,  0.2762441 ,\n",
       "         0.34423057]),\n",
       " <a list of 10 Patch objects>)"
      ]
     },
     "execution_count": 8,
     "metadata": {},
     "output_type": "execute_result"
    },
    {
     "data": {
      "image/png": "[encoded data removed]",
      "text/plain": [
       "<Figure size 432x288 with 1 Axes>"
      ]
     },
     "metadata": {
      "needs_background": "light"
     },
     "output_type": "display_data"
    }
   ],
   "source": [
    "mu,sigma = 0,0.1 # Mean and standard deviation \n",
    "s = np.random.normal(mu,sigma,1000)\n",
    "plt.hist(s)"
   ]
  },
  {
   "cell_type": "markdown",
   "metadata": {},
   "source": [
    "#### Poission Distribution "
   ]
  },
  {
   "cell_type": "markdown",
   "metadata": {},
   "source": [
    "A Poisson distribution is the probability distribution that results from a Poisson experiment.[[3](https://stattrek.com/probability-distributions/poisson.aspx)].  \n",
    "\n",
    "This statical experiment has the following properties:\n",
    "  - outcomes that can be classified as successes or failures.\n",
    "  - average number of success $(μ)$ that occurs in a specified region \n",
    "  - The probability that a success will occur is proportional to the size of the region.\n",
    "  - The specified region can take many forms could be a length, an area, a volume, a period of time, etc.\n"
   ]
  },
  {
   "cell_type": "markdown",
   "metadata": {},
   "source": [
    "In a  Poisson experiment, the average number of successes within a given region is μ. Then, the Poisson probability is:\n",
    "\n",
    "$$P(x; μ) = (e^{-μ}) (μ^{x}) / x!$$\n",
    "\n",
    "#### Parameter\n",
    "\n",
    "- e : A constant equal to approximately 2.71828. (Actually, e is the base of the natural logarithm system.)\n",
    "- μ :The mean number of successes that occur in a specified region.\n",
    "- x: The actual number of successes that occur in a specified region."
   ]
  },
  {
   "cell_type": "code",
   "execution_count": 5,
   "metadata": {},
   "outputs": [],
   "source": [
    "s = np.random.poisson(5, 10000)"
   ]
  },
  {
   "cell_type": "code",
   "execution_count": 6,
   "metadata": {},
   "outputs": [
    {
     "data": {
      "image/png": "[encoded data removed]",
      "text/plain": [
       "<Figure size 432x288 with 1 Axes>"
      ]
     },
     "metadata": {
      "needs_background": "light"
     },
     "output_type": "display_data"
    }
   ],
   "source": [
    "count, bins, ignored = plt.hist(s, 14, density=True)"
   ]
  },
  {
   "cell_type": "markdown",
   "metadata": {},
   "source": [
    "From the graph above the probabilty of sucess is greatest when number of events are between 3 and 7"
   ]
  },
  {
   "cell_type": "markdown",
   "metadata": {},
   "source": [
    "### 4. Explain the use of seeds in generating pseudorandom numbers."
   ]
  },
  {
   "cell_type": "markdown",
   "metadata": {},
   "source": [
    "## References "
   ]
  },
  {
   "cell_type": "markdown",
   "metadata": {},
   "source": [
    "1. Scipy.org, Numpy random uniform distribution documentation, https://docs.scipy.org/doc/numpy-1.15.0/reference/generated/numpy.random.uniform.html#numpy.random.uniform\n",
    "\n",
    "2. Stat Trek,The Normal Distribution, https://stattrek.com/probability-distributions/normal.as\n",
    "\n",
    "3. Stat Trek,Poission Distribution https://stattrek.com/probability-distributions/poisson.aspx\n",
    "\n",
    "4. Pynative, Python Random Number Generation tutorial,https://pynative.com/python-random-module/\n",
    "5. Geek for Geeks, numpy.random.randn() in Python,https://www.geeksforgeeks.org/numpy-random-randn-python/\n",
    "6. numpy.random.randint,Scipy.Org, https://docs.scipy.org/doc/numpy-1.15.0/reference/generated/numpy.random.randint.html#numpy.random.randint"
   ]
  },
  {
   "cell_type": "code",
   "execution_count": null,
   "metadata": {},
   "outputs": [],
   "source": []
  }
 ],
 "metadata": {
  "kernelspec": {
   "display_name": "Python 3",
   "language": "python",
   "name": "python3"
  },
  "language_info": {
   "codemirror_mode": {
    "name": "ipython",
    "version": 3
   },
   "file_extension": ".py",
   "mimetype": "text/x-python",
   "name": "python",
   "nbconvert_exporter": "python",
   "pygments_lexer": "ipython3",
   "version": "3.6.9"
  }
 },
 "nbformat": 4,
 "nbformat_minor": 4
}
