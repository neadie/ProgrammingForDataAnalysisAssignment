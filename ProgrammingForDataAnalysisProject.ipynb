{
 "cells": [
  {
   "cell_type": "markdown",
   "metadata": {},
   "source": [
    "# **<center>The numpy.random package<center>**"
   ]
  },
  {
   "cell_type": "markdown",
   "metadata": {},
   "source": [
    "### **1.Explain the overall purpose of the package.**\n"
   ]
  },
  {
   "cell_type": "markdown",
   "metadata": {},
   "source": [
    "Numpy.random is a sub package of the numpy package . This package generates random numbers.[[4](https://pynative.com/python-random-module/)]\n",
    "This package \n",
    "- penerate random numbers for various distributions including integer and floats.\n",
    "- random Sampling and choose elements from the population.\n",
    "- shuffle the sequence data.\n",
    "- seed the random generator.\n",
    "- generate random strings and password.\n",
    "\n",
    "Its probably the most widely known tool for generating random data in python. it which uses the Mersenne Twister PRNG algorithm as its core generator.[[7](https://realpython.com/python-random/#the-random-module)]"
   ]
  },
  {
   "cell_type": "code",
   "execution_count": 1,
   "metadata": {},
   "outputs": [],
   "source": [
    "#import liberaries\n",
    "import numpy as np\n",
    "import matplotlib.pyplot as plt\n",
    "import scipy.special as sps"
   ]
  },
  {
   "cell_type": "markdown",
   "metadata": {},
   "source": [
    "### **2. Explain the use of the “Simple random data” and “Permutations” functions.**"
   ]
  },
  {
   "cell_type": "markdown",
   "metadata": {},
   "source": [
    "#### <center>**Simple random data Functions**<center>"
   ]
  },
  {
   "cell_type": "markdown",
   "metadata": {},
   "source": [
    "##### <center>**numpy.random.rand**<center>"
   ]
  },
  {
   "cell_type": "markdown",
   "metadata": {},
   "source": [
    "Create an array of the given shape and populate it with random samples from a uniform distribution over (0,1) thus each value between 0 and 1 has an equal chance of being selected from the sample.\n",
    "- Parameters d0, d1, …, dn : int, (optional) The dimensions of the returned array, should all be positive. If no argument is given a single Python float is returned.\n",
    "\n",
    "- Returns out : array of random values as the same dimensions of the input array"
   ]
  },
  {
   "cell_type": "markdown",
   "metadata": {},
   "source": [
    "##### **Example of no imputs**"
   ]
  },
  {
   "cell_type": "code",
   "execution_count": 5,
   "metadata": {},
   "outputs": [
    {
     "data": {
      "text/plain": [
       "0.8893544934549601"
      ]
     },
     "execution_count": 5,
     "metadata": {},
     "output_type": "execute_result"
    }
   ],
   "source": [
    "np.random.rand()"
   ]
  },
  {
   "cell_type": "markdown",
   "metadata": {},
   "source": [
    "##### **Example with inputs**"
   ]
  },
  {
   "cell_type": "code",
   "execution_count": 3,
   "metadata": {},
   "outputs": [
    {
     "data": {
      "text/plain": [
       "array([[0.00595959, 0.42049728],\n",
       "       [0.4574418 , 0.95204527],\n",
       "       [0.61412208, 0.26136958],\n",
       "       [0.72859599, 0.14466894],\n",
       "       [0.89429463, 0.53368164],\n",
       "       [0.83565649, 0.82325358]])"
      ]
     },
     "execution_count": 3,
     "metadata": {},
     "output_type": "execute_result"
    }
   ],
   "source": [
    "np.random.rand(6,2)"
   ]
  },
  {
   "cell_type": "markdown",
   "metadata": {},
   "source": [
    "You can use a histrogram as below to show the shape of the distribtion.Like a bar chart but has contimous axis in the bottom . This histrogram above displays 10000 numbers generated into an unifrom distribution"
   ]
  },
  {
   "cell_type": "code",
   "execution_count": 4,
   "metadata": {},
   "outputs": [
    {
     "data": {
      "text/plain": [
       "(array([10003., 10027., 10111.,  9964.,  9885.,  9948., 10042.,  9895.,\n",
       "        10045., 10080.]),\n",
       " array([1.27246611e-05, 1.00011373e-01, 2.00010022e-01, 3.00008670e-01,\n",
       "        4.00007319e-01, 5.00005967e-01, 6.00004616e-01, 7.00003264e-01,\n",
       "        8.00001913e-01, 9.00000561e-01, 9.99999210e-01]),\n",
       " <a list of 10 Patch objects>)"
      ]
     },
     "execution_count": 4,
     "metadata": {},
     "output_type": "execute_result"
    },
    {
     "data": {
      "image/png": "[encoded data removed]",
      "text/plain": [
       "<Figure size 432x288 with 1 Axes>"
      ]
     },
     "metadata": {
      "needs_background": "light"
     },
     "output_type": "display_data"
    }
   ],
   "source": [
    "x =  np.random.rand(100000)\n",
    "plt.hist(x)"
   ]
  },
  {
   "cell_type": "markdown",
   "metadata": {},
   "source": [
    "##### <center>**numpy.random.randn**<center>"
   ]
  },
  {
   "cell_type": "markdown",
   "metadata": {},
   "source": [
    "Creates an array of specified shape and fills it with random values as per standard normal distribution.\n",
    "\n",
    "If positive arguments are provided, randn generates an array of shape (d0, d1, …, dn), filled with random floats sampled from a univariate “normal” (Gaussian) distribution of mean 0 and variance 1 (if any of the d_i are floats, they are first converted to integers by truncation). A single float randomly sampled from the distribution is returned if no argument is provided.[[5](https://www.geeksforgeeks.org/numpy-random-randn-python/)]"
   ]
  },
  {
   "cell_type": "markdown",
   "metadata": {},
   "source": [
    "Parameters\n",
    "- d0, d1, ..., dn : [int, optional]Dimension of the returned array we require, \n",
    "     If no argument is given a single Python float is returned.\n",
    "The snippet above is an example of randn() with no parmeters give\n",
    "\n",
    "\n",
    "Returns\n",
    "Array of defined shape, filled with random floating-point samples from \n",
    "the standard normal distribution. Only returns a float like above if no parmeters are given "
   ]
  },
  {
   "cell_type": "markdown",
   "metadata": {},
   "source": [
    "##### **Example of no input**"
   ]
  },
  {
   "cell_type": "code",
   "execution_count": 2,
   "metadata": {},
   "outputs": [
    {
     "data": {
      "text/plain": [
       "-0.17944638135547622"
      ]
     },
     "execution_count": 2,
     "metadata": {},
     "output_type": "execute_result"
    }
   ],
   "source": [
    "np.random.randn()"
   ]
  },
  {
   "cell_type": "markdown",
   "metadata": {},
   "source": [
    "##### **Example with input**"
   ]
  },
  {
   "cell_type": "code",
   "execution_count": 4,
   "metadata": {},
   "outputs": [
    {
     "data": {
      "text/plain": [
       "array([[ 1.30221395, -0.51076144, -0.68381547,  0.63725297],\n",
       "       [-2.49852095,  0.540497  ,  0.53344439,  0.42250467],\n",
       "       [ 1.12180475, -1.14795602,  0.76359755, -0.59444819]])"
      ]
     },
     "execution_count": 4,
     "metadata": {},
     "output_type": "execute_result"
    }
   ],
   "source": [
    "np.random.randn(3, 4)"
   ]
  },
  {
   "cell_type": "markdown",
   "metadata": {},
   "source": [
    "Example above is an example of the randn fucntion which returns 3 rows ,4 coulmns which in turn returns 12 floats "
   ]
  },
  {
   "cell_type": "markdown",
   "metadata": {},
   "source": [
    "This  histrogram displays displays 70 random numbers in a univariate “normal” (Gaussian) distribution. "
   ]
  },
  {
   "cell_type": "code",
   "execution_count": 4,
   "metadata": {},
   "outputs": [
    {
     "data": {
      "text/plain": [
       "(array([ 6.,  7.,  6., 14.,  7., 12.,  7.,  5.,  3.,  3.]),\n",
       " array([-1.87154888, -1.42112126, -0.97069365, -0.52026604, -0.06983842,\n",
       "         0.38058919,  0.8310168 ,  1.28144442,  1.73187203,  2.18229964,\n",
       "         2.63272726]),\n",
       " <a list of 10 Patch objects>)"
      ]
     },
     "execution_count": 4,
     "metadata": {},
     "output_type": "execute_result"
    },
    {
     "data": {
      "image/png": "[encoded data removed]",
      "text/plain": [
       "<Figure size 432x288 with 1 Axes>"
      ]
     },
     "metadata": {
      "needs_background": "light"
     },
     "output_type": "display_data"
    }
   ],
   "source": [
    "y = np.random.randn(70)\n",
    "plt.hist(y)"
   ]
  },
  {
   "cell_type": "markdown",
   "metadata": {},
   "source": [
    "##### <center>**numpy.random.randint**<center>"
   ]
  },
  {
   "cell_type": "markdown",
   "metadata": {},
   "source": [
    "Return random integers from low (inclusive) to high (exclusive).\n",
    "\n",
    "Return random integers from the **discrete uniform** distribution of the specified dtype in the “half-open” interval [[6](https://docs.scipy.org/doc/numpy-1.15.0/reference/generated/numpy.random.randint.html#numpy.random.randint)]"
   ]
  },
  {
   "cell_type": "markdown",
   "metadata": {},
   "source": [
    "##### Parameters\n",
    "\n",
    "- Low Lowest (signed) integer to be drawn from the distribution (unless high=None, in which case this parameter is one above the highest such integer).\n",
    "high : int, optional\n",
    "If provided, one above the largest (signed) integer to be drawn from the distribution (see above for behavior if high=None).\n",
    "\n",
    "- size : int or tuple of ints, optional\n",
    "Output shape. If the given shape is, e.g., (m, n, k), then m * n * k samples are drawn. Default is None, in which case a single value is returned.\n",
    "- dtype : dtype, optional\n",
    "Desired dtype of the result. All dtypes are determined by their name, i.e., ‘int64’, ‘int’, etc, so byteorder is not available and a specific precision may have different C types depending on the platform. The default value is ‘np.int’."
   ]
  },
  {
   "cell_type": "markdown",
   "metadata": {},
   "source": [
    "##### **Example with no parameters**"
   ]
  },
  {
   "cell_type": "code",
   "execution_count": 7,
   "metadata": {},
   "outputs": [
    {
     "ename": "TypeError",
     "evalue": "randint() takes at least 1 positional argument (0 given)",
     "output_type": "error",
     "traceback": [
      "\u001b[0;31m---------------------------------------------------------------------------\u001b[0m",
      "\u001b[0;31mTypeError\u001b[0m                                 Traceback (most recent call last)",
      "\u001b[0;32m<ipython-input-7-c77516ad7597>\u001b[0m in \u001b[0;36m<module>\u001b[0;34m\u001b[0m\n\u001b[0;32m----> 1\u001b[0;31m \u001b[0mnp\u001b[0m\u001b[0;34m.\u001b[0m\u001b[0mrandom\u001b[0m\u001b[0;34m.\u001b[0m\u001b[0mrandint\u001b[0m\u001b[0;34m(\u001b[0m\u001b[0;34m)\u001b[0m\u001b[0;34m\u001b[0m\u001b[0;34m\u001b[0m\u001b[0m\n\u001b[0m",
      "\u001b[0;32mmtrand.pyx\u001b[0m in \u001b[0;36mmtrand.RandomState.randint\u001b[0;34m()\u001b[0m\n",
      "\u001b[0;31mTypeError\u001b[0m: randint() takes at least 1 positional argument (0 given)"
     ]
    }
   ],
   "source": [
    "np.random.randint()"
   ]
  },
  {
   "cell_type": "markdown",
   "metadata": {},
   "source": [
    "This fails as at least 1 paramter is required "
   ]
  },
  {
   "cell_type": "markdown",
   "metadata": {},
   "source": [
    "##### **Example with 1 parameter**"
   ]
  },
  {
   "cell_type": "markdown",
   "metadata": {},
   "source": [
    "Below returns a discrete random integer which is less than 4"
   ]
  },
  {
   "cell_type": "code",
   "execution_count": 18,
   "metadata": {},
   "outputs": [
    {
     "data": {
      "text/plain": [
       "3"
      ]
     },
     "execution_count": 18,
     "metadata": {},
     "output_type": "execute_result"
    }
   ],
   "source": [
    "np.random.randint(4)"
   ]
  },
  {
   "cell_type": "markdown",
   "metadata": {},
   "source": [
    "##### **Example with high exlusive and size**"
   ]
  },
  {
   "cell_type": "markdown",
   "metadata": {},
   "source": [
    "Below returns an array of 10 discrete integers and all less than 2 "
   ]
  },
  {
   "cell_type": "code",
   "execution_count": 4,
   "metadata": {},
   "outputs": [
    {
     "data": {
      "text/plain": [
       "array([0, 1, 1, 1, 1, 0, 0, 0, 1, 0])"
      ]
     },
     "execution_count": 4,
     "metadata": {},
     "output_type": "execute_result"
    }
   ],
   "source": [
    "np.random.randint(2, size=10)\n"
   ]
  },
  {
   "cell_type": "markdown",
   "metadata": {},
   "source": [
    "##### **Example with low and high given as well as size**"
   ]
  },
  {
   "cell_type": "code",
   "execution_count": 9,
   "metadata": {},
   "outputs": [
    {
     "data": {
      "text/plain": [
       "(array([11., 11., 16.,  7.,  7., 14.,  5.,  8., 11., 10.]),\n",
       " array([ 0. ,  6.7, 13.4, 20.1, 26.8, 33.5, 40.2, 46.9, 53.6, 60.3, 67. ]),\n",
       " <a list of 10 Patch objects>)"
      ]
     },
     "execution_count": 9,
     "metadata": {},
     "output_type": "execute_result"
    },
    {
     "data": {
      "image/png": "[encoded data removed]",
      "text/plain": [
       "<Figure size 432x288 with 1 Axes>"
      ]
     },
     "metadata": {
      "needs_background": "light"
     },
     "output_type": "display_data"
    }
   ],
   "source": [
    "z = np.random.randint(0,70,100)\n",
    "plt.hist(z)"
   ]
  },
  {
   "cell_type": "markdown",
   "metadata": {},
   "source": [
    "The histrogram above shows that numbers are generated randomaly in a Discrete uniform distribution "
   ]
  },
  {
   "cell_type": "markdown",
   "metadata": {},
   "source": [
    "##### <center>**numpy.random.random_sample** , **numpy.random.random**, **numpy.random.randf**,**numpy.random.sample**<center>"
   ]
  },
  {
   "cell_type": "markdown",
   "metadata": {},
   "source": [
    "These functions all do the same thing so I grouped them together, Only random_sample is discussed here."
   ]
  },
  {
   "cell_type": "markdown",
   "metadata": {},
   "source": [
    "Return random floats from low (inclusive) to high (exclusive).\n",
    "\n",
    "Results are from the “continuous uniform” distribution over the stated interval. To sample $$Unif[a, b), b > a$$ multiply the output of random_sample by (b-a) and add a:\n",
    "\n",
    "(b - a) * random_sample() + a\n",
    "\n",
    "##### Parameters:\n",
    "- size : int or tuple of ints, optional\n",
    "Output shape. If the given shape is, e.g., (m, n, k), then m * n * k samples are drawn. Default is None, in which case a single value is returned.\n",
    "\n",
    "Returns:\t\n",
    "- out : float or ndarray of floats\n",
    "Array of random floats of shape size (unless size=None, in which case a single float is returned).[[8](https://docs.scipy.org/doc/numpy-1.16.0/reference/routines.random.html)]"
   ]
  },
  {
   "cell_type": "markdown",
   "metadata": {},
   "source": [
    "##### **Example with no input paramters**"
   ]
  },
  {
   "cell_type": "code",
   "execution_count": 12,
   "metadata": {},
   "outputs": [
    {
     "data": {
      "text/plain": [
       "0.012274464130143103"
      ]
     },
     "execution_count": 12,
     "metadata": {},
     "output_type": "execute_result"
    }
   ],
   "source": [
    "np.random.random_sample()"
   ]
  },
  {
   "cell_type": "markdown",
   "metadata": {},
   "source": [
    "##### **Example with input paramters**"
   ]
  },
  {
   "cell_type": "code",
   "execution_count": 13,
   "metadata": {},
   "outputs": [
    {
     "data": {
      "text/plain": [
       "array([[0.18560475, 0.92732366],\n",
       "       [0.24877976, 0.1621653 ]])"
      ]
     },
     "execution_count": 13,
     "metadata": {},
     "output_type": "execute_result"
    }
   ],
   "source": [
    "np.random.random_sample((2, 2))"
   ]
  },
  {
   "cell_type": "code",
   "execution_count": 15,
   "metadata": {},
   "outputs": [
    {
     "data": {
      "text/plain": [
       "(array([6., 3., 5., 6., 5., 6., 1., 1., 3., 4.]),\n",
       " array([0.00191705, 0.10076631, 0.19961558, 0.29846484, 0.39731411,\n",
       "        0.49616337, 0.59501264, 0.6938619 , 0.79271117, 0.89156043,\n",
       "        0.9904097 ]),\n",
       " <a list of 10 Patch objects>)"
      ]
     },
     "execution_count": 15,
     "metadata": {},
     "output_type": "execute_result"
    },
    {
     "data": {
      "image/png": "[encoded data removed]",
      "text/plain": [
       "<Figure size 432x288 with 1 Axes>"
      ]
     },
     "metadata": {
      "needs_background": "light"
     },
     "output_type": "display_data"
    }
   ],
   "source": [
    "x = np.random.random_sample(40)\n",
    "plt.hist(x)"
   ]
  },
  {
   "cell_type": "markdown",
   "metadata": {},
   "source": [
    "From the histrogram above shows that this function creates values from a continuous uniform” distribution "
   ]
  },
  {
   "cell_type": "markdown",
   "metadata": {},
   "source": [
    "##### <center>**numpy.random.choice**<center>"
   ]
  },
  {
   "cell_type": "markdown",
   "metadata": {},
   "source": [
    "Returns a random element or elements from the non-empty sequence\n",
    "\n",
    "numpy.random.choice(a, size=None, replace=True, p=None)¶"
   ]
  },
  {
   "cell_type": "markdown",
   "metadata": {},
   "source": [
    "Parameters:\t\n",
    "- a 1-D array-like or int\n",
    "If an ndarray, a random sample is generated from its elements. If an int, the random sample is generated as if a were np.arange(a)\n",
    "\n",
    "- size - int or tuple of ints, optional\n",
    "Output shape. If the given shape is, e.g., (m, n, k), then m * n * k samples are drawn. Default is None, in which case a single value is returned.\n",
    "\n",
    "- replace - boolean, optional\n",
    "Whether the sample is with or without replacement\n",
    "\n",
    "- p - 1-D array-like, optional\n",
    "The probabilities associated with each entry in a. If not given the sample assumes a uniform distribution over all entries in a."
   ]
  },
  {
   "cell_type": "markdown",
   "metadata": {},
   "source": [
    "##### **Example of no input**"
   ]
  },
  {
   "cell_type": "code",
   "execution_count": 21,
   "metadata": {},
   "outputs": [
    {
     "ename": "TypeError",
     "evalue": "choice() takes at least 1 positional argument (0 given)",
     "output_type": "error",
     "traceback": [
      "\u001b[0;31m---------------------------------------------------------------------------\u001b[0m",
      "\u001b[0;31mTypeError\u001b[0m                                 Traceback (most recent call last)",
      "\u001b[0;32m<ipython-input-21-706c48e6a837>\u001b[0m in \u001b[0;36m<module>\u001b[0;34m\u001b[0m\n\u001b[0;32m----> 1\u001b[0;31m \u001b[0mnp\u001b[0m\u001b[0;34m.\u001b[0m\u001b[0mrandom\u001b[0m\u001b[0;34m.\u001b[0m\u001b[0mchoice\u001b[0m\u001b[0;34m(\u001b[0m\u001b[0;34m)\u001b[0m\u001b[0;34m\u001b[0m\u001b[0;34m\u001b[0m\u001b[0m\n\u001b[0m",
      "\u001b[0;32mmtrand.pyx\u001b[0m in \u001b[0;36mmtrand.RandomState.choice\u001b[0;34m()\u001b[0m\n",
      "\u001b[0;31mTypeError\u001b[0m: choice() takes at least 1 positional argument (0 given)"
     ]
    }
   ],
   "source": [
    "np.random.choice()"
   ]
  },
  {
   "cell_type": "markdown",
   "metadata": {},
   "source": [
    "Results with an error as at least 1 input is required"
   ]
  },
  {
   "cell_type": "markdown",
   "metadata": {},
   "source": [
    "##### **Example of 1 input**"
   ]
  },
  {
   "cell_type": "markdown",
   "metadata": {},
   "source": [
    "Below generate a uniform random sample from np.arange(2) of size 1:"
   ]
  },
  {
   "cell_type": "code",
   "execution_count": 26,
   "metadata": {},
   "outputs": [
    {
     "data": {
      "text/plain": [
       "1"
      ]
     },
     "execution_count": 26,
     "metadata": {},
     "output_type": "execute_result"
    }
   ],
   "source": [
    "np.random.choice(2)"
   ]
  },
  {
   "cell_type": "markdown",
   "metadata": {},
   "source": [
    "##### **Example of two inputs**"
   ]
  },
  {
   "cell_type": "markdown",
   "metadata": {},
   "source": [
    "Below generate a uniform random sample from np.arange(4) of size 4:"
   ]
  },
  {
   "cell_type": "code",
   "execution_count": 28,
   "metadata": {},
   "outputs": [
    {
     "data": {
      "text/plain": [
       "array([2, 2, 1, 2])"
      ]
     },
     "execution_count": 28,
     "metadata": {},
     "output_type": "execute_result"
    }
   ],
   "source": [
    "np.random.choice(4,4)"
   ]
  },
  {
   "cell_type": "markdown",
   "metadata": {},
   "source": [
    "##### Example of the two previous inputs plus probabilites "
   ]
  },
  {
   "cell_type": "code",
   "execution_count": 33,
   "metadata": {},
   "outputs": [
    {
     "data": {
      "text/plain": [
       "array([0, 3, 3, 0])"
      ]
     },
     "execution_count": 33,
     "metadata": {},
     "output_type": "execute_result"
    }
   ],
   "source": [
    "np.random.choice(4, 4, p=[0.5, 0, 0, 0.5])"
   ]
  },
  {
   "cell_type": "markdown",
   "metadata": {},
   "source": [
    "From the snippet above  non-uniform random sample from np.arange(4) of size 4 and given a range of probabilities of each number been selected. Here only 0 and 3 can be selected as each as a probability of .5 thus equal chance of being selected"
   ]
  },
  {
   "cell_type": "code",
   "execution_count": 34,
   "metadata": {},
   "outputs": [
    {
     "data": {
      "text/plain": [
       "array([3, 0, 0, 0])"
      ]
     },
     "execution_count": 34,
     "metadata": {},
     "output_type": "execute_result"
    }
   ],
   "source": [
    "np.random.choice(4, 4, replace=True,p=[0.5, 0, 0, 0.5])"
   ]
  },
  {
   "cell_type": "markdown",
   "metadata": {},
   "source": [
    "Generate a non-uniform random sample from np.arange(4) of size 4 with replacement. If replace = False this scenario will result in a compliaton error as only 3 can appear but array must have 4 unique numbers as below\n"
   ]
  },
  {
   "cell_type": "code",
   "execution_count": 35,
   "metadata": {},
   "outputs": [
    {
     "ename": "ValueError",
     "evalue": "Fewer non-zero entries in p than size",
     "output_type": "error",
     "traceback": [
      "\u001b[0;31m---------------------------------------------------------------------------\u001b[0m",
      "\u001b[0;31mValueError\u001b[0m                                Traceback (most recent call last)",
      "\u001b[0;32m<ipython-input-35-a340871510cd>\u001b[0m in \u001b[0;36m<module>\u001b[0;34m\u001b[0m\n\u001b[0;32m----> 1\u001b[0;31m \u001b[0mnp\u001b[0m\u001b[0;34m.\u001b[0m\u001b[0mrandom\u001b[0m\u001b[0;34m.\u001b[0m\u001b[0mchoice\u001b[0m\u001b[0;34m(\u001b[0m\u001b[0;36m4\u001b[0m\u001b[0;34m,\u001b[0m \u001b[0;36m4\u001b[0m\u001b[0;34m,\u001b[0m \u001b[0mreplace\u001b[0m\u001b[0;34m=\u001b[0m\u001b[0;32mFalse\u001b[0m\u001b[0;34m,\u001b[0m\u001b[0mp\u001b[0m\u001b[0;34m=\u001b[0m\u001b[0;34m[\u001b[0m\u001b[0;36m0.5\u001b[0m\u001b[0;34m,\u001b[0m \u001b[0;36m0\u001b[0m\u001b[0;34m,\u001b[0m \u001b[0;36m0\u001b[0m\u001b[0;34m,\u001b[0m \u001b[0;36m0.5\u001b[0m\u001b[0;34m]\u001b[0m\u001b[0;34m)\u001b[0m\u001b[0;34m\u001b[0m\u001b[0;34m\u001b[0m\u001b[0m\n\u001b[0m",
      "\u001b[0;32mmtrand.pyx\u001b[0m in \u001b[0;36mmtrand.RandomState.choice\u001b[0;34m()\u001b[0m\n",
      "\u001b[0;31mValueError\u001b[0m: Fewer non-zero entries in p than size"
     ]
    }
   ],
   "source": [
    "np.random.choice(4, 4, replace=False,p=[0.5, 0, 0, 0.5])"
   ]
  },
  {
   "cell_type": "markdown",
   "metadata": {},
   "source": [
    "##### <center>**numpy.random.bytes**<center>"
   ]
  },
  {
   "cell_type": "markdown",
   "metadata": {},
   "source": [
    "Return random bytes.\n",
    "\n",
    "Parameters:\t\n",
    "- length : int\n",
    "Number of random bytes.\n",
    "\n",
    "Returns:\n",
    "-out : str\n",
    "String of length length."
   ]
  },
  {
   "cell_type": "code",
   "execution_count": 36,
   "metadata": {},
   "outputs": [
    {
     "data": {
      "text/plain": [
       "b':b\\x88\\x01'"
      ]
     },
     "execution_count": 36,
     "metadata": {},
     "output_type": "execute_result"
    }
   ],
   "source": [
    " np.random.bytes(4)"
   ]
  },
  {
   "cell_type": "markdown",
   "metadata": {},
   "source": [
    "The sample above returns a random string of length 4"
   ]
  },
  {
   "cell_type": "markdown",
   "metadata": {},
   "source": [
    "#### <center>**Permutations Functions**<center>"
   ]
  },
  {
   "cell_type": "markdown",
   "metadata": {},
   "source": [
    "##### <center>**numpy.random.shuffle**<center>"
   ]
  },
  {
   "cell_type": "markdown",
   "metadata": {},
   "source": [
    "Modify a sequence in-place by shuffling its contents.\n",
    "\n",
    "This function only shuffles the array along the first axis of a multi-dimensional array. The order of sub-arrays is changed but their contents remains the same.\n",
    "\n",
    "Parameters:\t\n",
    "- x array_like The array or list to be shuffled.\n",
    "\n",
    "Returns:\n",
    "- None"
   ]
  },
  {
   "cell_type": "code",
   "execution_count": 4,
   "metadata": {},
   "outputs": [
    {
     "data": {
      "text/plain": [
       "array([ 7,  5, 11, 10,  1,  3, 12,  9,  6, 13,  8,  2, 16, 15,  0, 14, 18,\n",
       "       17,  4])"
      ]
     },
     "execution_count": 4,
     "metadata": {},
     "output_type": "execute_result"
    }
   ],
   "source": [
    "arr = np.arange(19)\n",
    "np.random.shuffle(arr)\n",
    "arr"
   ]
  },
  {
   "cell_type": "markdown",
   "metadata": {},
   "source": [
    "The snippet above firstly an array from 0 to 18 is created. Then via the shuffle funtion the array is shuffled in random order"
   ]
  },
  {
   "cell_type": "markdown",
   "metadata": {},
   "source": [
    "In the case of a 2D array the function shuffle is going to permute randomly the array rows.[[10](https://www.science-emergence.com/Articles/How-to-randomly-shuffle-an-array-in-python-using-numpy/)]"
   ]
  },
  {
   "cell_type": "code",
   "execution_count": 10,
   "metadata": {},
   "outputs": [
    {
     "data": {
      "text/plain": [
       "array([[0, 1],\n",
       "       [2, 3]])"
      ]
     },
     "execution_count": 10,
     "metadata": {},
     "output_type": "execute_result"
    }
   ],
   "source": [
    "arr = np.arange(4).reshape((2, 2))\n",
    "arr"
   ]
  },
  {
   "cell_type": "code",
   "execution_count": 8,
   "metadata": {},
   "outputs": [
    {
     "data": {
      "text/plain": [
       "array([[0, 1, 2],\n",
       "       [3, 4, 5],\n",
       "       [6, 7, 8]])"
      ]
     },
     "execution_count": 8,
     "metadata": {},
     "output_type": "execute_result"
    }
   ],
   "source": [
    "np.random.shuffle(arr)\n",
    "arr"
   ]
  },
  {
   "cell_type": "markdown",
   "metadata": {},
   "source": [
    "##### <center>**numpy.random.permutation**<center>"
   ]
  },
  {
   "cell_type": "markdown",
   "metadata": {},
   "source": [
    "Randomly permute a sequence, or return a permuted range.\n",
    "\n",
    "If x is a multi-dimensional array, it is only shuffled rows arrays \n",
    "\n",
    "Parameters:\t\n",
    "x : int or array_like\n",
    "If x is an integer, randomly permute np.arange(x). If x is an array, make a copy and shuffle the elements randomly.[[11](https://docs.scipy.org/doc/numpy-1.16.0/reference/generated/numpy.random.permutation.html#numpy.random.permutation)]\n",
    "\n",
    "Returns:\n",
    "out : ndarray\n",
    "Permuted sequence or array range."
   ]
  },
  {
   "cell_type": "code",
   "execution_count": 12,
   "metadata": {},
   "outputs": [
    {
     "data": {
      "text/plain": [
       "array([0, 4, 1, 5, 3, 2])"
      ]
     },
     "execution_count": 12,
     "metadata": {},
     "output_type": "execute_result"
    }
   ],
   "source": [
    " np.random.permutation(6)"
   ]
  },
  {
   "cell_type": "markdown",
   "metadata": {},
   "source": [
    "The example above randomly permute np.arange(6)"
   ]
  },
  {
   "cell_type": "code",
   "execution_count": 14,
   "metadata": {},
   "outputs": [
    {
     "data": {
      "text/plain": [
       "array([78, 90,  9, 23,  0])"
      ]
     },
     "execution_count": 14,
     "metadata": {},
     "output_type": "execute_result"
    }
   ],
   "source": [
    "np.random.permutation([0, 9, 90, 78, 23])"
   ]
  },
  {
   "cell_type": "markdown",
   "metadata": {},
   "source": [
    "The example above makes a copy of the array given and shuffles them"
   ]
  },
  {
   "cell_type": "code",
   "execution_count": 25,
   "metadata": {},
   "outputs": [
    {
     "data": {
      "text/plain": [
       "array([[ 0,  1,  2,  3],\n",
       "       [ 4,  5,  6,  7],\n",
       "       [ 8,  9, 10, 11]])"
      ]
     },
     "execution_count": 25,
     "metadata": {},
     "output_type": "execute_result"
    }
   ],
   "source": [
    "arr = np.arange(12).reshape((3, 4))\n",
    "arr"
   ]
  },
  {
   "cell_type": "code",
   "execution_count": 28,
   "metadata": {},
   "outputs": [
    {
     "data": {
      "text/plain": [
       "array([[ 4,  5,  6,  7],\n",
       "       [ 8,  9, 10, 11],\n",
       "       [ 0,  1,  2,  3]])"
      ]
     },
     "execution_count": 28,
     "metadata": {},
     "output_type": "execute_result"
    }
   ],
   "source": [
    "arr = np.random.permutation(arr)\n",
    "arr"
   ]
  },
  {
   "cell_type": "markdown",
   "metadata": {},
   "source": [
    "The example above shuffles the array only by the y axis "
   ]
  },
  {
   "cell_type": "markdown",
   "metadata": {},
   "source": [
    "### <center>**3. Explain the use and purpose of at least five “Distributions” functions**.<center>\n"
   ]
  },
  {
   "cell_type": "markdown",
   "metadata": {},
   "source": [
    "#### <center>**Unifrom Distribution**<center>"
   ]
  },
  {
   "cell_type": "markdown",
   "metadata": {},
   "source": [
    "Draw samples from a uniform distribution.it return random floats from low (inclusive) to high (exclusive).\n",
    "\n",
    "\n",
    "Parameters\n",
    "- low : float or array_like of floats, optional\n",
    "Lower boundary of the output interval. All values generated will be greater than or equal to low. The default value is 0.\n",
    "\n",
    "- high : float or array_like of floats\n",
    "Upper boundary of the output interval. All values generated will be less than high. The default value is 1.0.\n",
    "\n",
    "- size : int or tuple of ints, optional\n",
    "Output shape. If the given shape is, e.g., (m, n, k), then m * n * k samples are drawn. If size is None (default), a single value is returned if low and high are both scalars. Otherwise, np.broadcast(low, high).size samples are drawn.\n",
    "\n",
    "_Returns_:\t\n",
    "out : ndarray or scalar\n",
    "Drawn samples from the parameterized uniform distribution.[[1](https://docs.scipy.org/doc/numpy-1.15.0/reference/generated/numpy.random.uniform.html#numpy.random.uniform)]"
   ]
  },
  {
   "cell_type": "code",
   "execution_count": 9,
   "metadata": {},
   "outputs": [
    {
     "data": {
      "text/plain": [
       "(array([ 92., 106., 104.,  99.,  98.,  91., 109.,  98.,  98., 105.]),\n",
       " array([ 1.2580318 , 11.11686299, 20.97569417, 30.83452535, 40.69335654,\n",
       "        50.55218772, 60.4110189 , 70.26985009, 80.12868127, 89.98751245,\n",
       "        99.84634364]),\n",
       " <a list of 10 Patch objects>)"
      ]
     },
     "execution_count": 9,
     "metadata": {},
     "output_type": "execute_result"
    },
    {
     "data": {
      "image/png": "[encoded data removed]",
      "text/plain": [
       "<Figure size 432x288 with 1 Axes>"
      ]
     },
     "metadata": {
      "needs_background": "light"
     },
     "output_type": "display_data"
    }
   ],
   "source": [
    "x= np.random.uniform(1,100,1000)\n",
    "plt.hist(x)\n"
   ]
  },
  {
   "cell_type": "markdown",
   "metadata": {},
   "source": [
    "The histrogram below displays values between 1 and &lt; 100"
   ]
  },
  {
   "cell_type": "markdown",
   "metadata": {},
   "source": [
    "#### <center>**Normal Distribution**<center>"
   ]
  },
  {
   "cell_type": "markdown",
   "metadata": {},
   "source": [
    "The normal distribution refers to a family of continuous probability distributions described by the normal equation [[2](https://stattrek.com/probability-distributions/normal.aspx)] \n",
    "\n",
    "The Normal Equation. The value of the random variable Y is:\n",
    "\n",
    "$$Y = { 1/[ σ * \\sqrt{2π} ] } * e-(x - μ)^{2}/2σ^{2}$$\n",
    "\n",
    "\n",
    "Parameters:\n",
    "\n",
    "- X is a normal random variable\n",
    "- μ is the mean \n",
    "- σ is the standard deviation\n",
    "- π is approximately 3.14159\n",
    "- e is approximately 2.71828."
   ]
  },
  {
   "cell_type": "code",
   "execution_count": 8,
   "metadata": {},
   "outputs": [
    {
     "data": {
      "text/plain": [
       "(array([  3.,  19.,  70., 159., 282., 226., 163.,  57.,  17.,   4.]),\n",
       " array([-0.33563413, -0.26764766, -0.19966119, -0.13167472, -0.06368825,\n",
       "         0.00429822,  0.07228469,  0.14027116,  0.20825763,  0.2762441 ,\n",
       "         0.34423057]),\n",
       " <a list of 10 Patch objects>)"
      ]
     },
     "execution_count": 8,
     "metadata": {},
     "output_type": "execute_result"
    },
    {
     "data": {
      "image/png": "[encoded data removed]",
      "text/plain": [
       "<Figure size 432x288 with 1 Axes>"
      ]
     },
     "metadata": {
      "needs_background": "light"
     },
     "output_type": "display_data"
    }
   ],
   "source": [
    "mu,sigma = 0,0.1 # Mean and standard deviation \n",
    "s = np.random.normal(mu,sigma,1000)\n",
    "plt.hist(s)"
   ]
  },
  {
   "cell_type": "markdown",
   "metadata": {},
   "source": [
    "#### <center>**Poission Distribution**<center>"
   ]
  },
  {
   "cell_type": "markdown",
   "metadata": {},
   "source": [
    "A Poisson distribution is the probability distribution that results from a Poisson experiment.[[3](https://stattrek.com/probability-distributions/poisson.aspx)].  \n",
    "\n",
    "This statical experiment has the following properties:\n",
    "  - outcomes that can be classified as successes or failures.\n",
    "  - average number of success $(μ)$ that occurs in a specified region \n",
    "  - The probability that a success will occur is proportional to the size of the region.\n",
    "  - The specified region can take many forms could be a length, an area, a volume, a period of time, etc.\n"
   ]
  },
  {
   "cell_type": "markdown",
   "metadata": {},
   "source": [
    "In a  Poisson experiment, the average number of successes within a given region is μ. Then, the Poisson probability is:\n",
    "\n",
    "$$P(x; μ) = (e^{-μ}) (μ^{x}) / x!$$\n",
    "\n",
    "#### Parameter\n",
    "\n",
    "- e : A constant equal to approximately 2.71828. (Actually, e is the base of the natural logarithm system.)\n",
    "- μ :The mean number of successes that occur in a specified region.\n",
    "- x: The actual number of successes that occur in a specified region."
   ]
  },
  {
   "cell_type": "code",
   "execution_count": 5,
   "metadata": {},
   "outputs": [],
   "source": [
    "s = np.random.poisson(5, 10000)"
   ]
  },
  {
   "cell_type": "code",
   "execution_count": 6,
   "metadata": {},
   "outputs": [
    {
     "data": {
      "image/png": "[encoded data removed]",
      "text/plain": [
       "<Figure size 432x288 with 1 Axes>"
      ]
     },
     "metadata": {
      "needs_background": "light"
     },
     "output_type": "display_data"
    }
   ],
   "source": [
    "count, bins, ignored = plt.hist(s, 14, density=True)"
   ]
  },
  {
   "cell_type": "markdown",
   "metadata": {},
   "source": [
    "#### <center>**Binomial Distribution**<center>"
   ]
  },
  {
   "cell_type": "markdown",
   "metadata": {},
   "source": [
    "The binomial distribution gives the discrete probability distribution $$P_p(n|N)$$ of obtaining exactly n successes out of N Bernoulli trials (where the result of each Bernoulli trial is true with probability p and false with probability q=1-p)[[12](http://mathworld.wolfram.com/BinomialDistribution.html)]"
   ]
  },
  {
   "cell_type": "markdown",
   "metadata": {},
   "source": [
    "The probability density for the binomial distribution is\n",
    "\n",
    "$$P(N) = \\binom{n}{N}p^N(1-p)^{n-N}$$"
   ]
  },
  {
   "cell_type": "markdown",
   "metadata": {},
   "source": [
    "Parameters:\t\n",
    "- n : number of trials\n",
    "\n",
    "\n",
    "- p : p is the probability of success (float or array_like of floats>= 0 and <=1)\n",
    "\n",
    "- N (size) : int or tuple of ints, optional\n",
    "Output shape. If the given shape is, e.g., (m, n, k), then m * n * k samples are drawn. If size is None (default), a single value is returned i\n",
    "\n",
    "Returns:\n",
    "- out : ndarray or scalar\n",
    " The number of successes over the n trials."
   ]
  },
  {
   "cell_type": "code",
   "execution_count": 6,
   "metadata": {},
   "outputs": [
    {
     "data": {
      "image/png": "[encoded data removed]",
      "text/plain": [
       "<Figure size 432x288 with 1 Axes>"
      ]
     },
     "metadata": {
      "needs_background": "light"
     },
     "output_type": "display_data"
    }
   ],
   "source": [
    "n =200  # number of trials \n",
    "p = .5  #  probability sucess of each trial\n",
    "s = np.random.binomial(n, p, 2000)\n",
    "# result of flipping 200 coins, tested 2000 times.\n",
    "count, bins, ignored = plt.hist(s, 50, density=True)"
   ]
  },
  {
   "cell_type": "markdown",
   "metadata": {},
   "source": [
    "##### **Bionomial Distribution real world example**\n",
    "\n",
    " A bakery attempts to make 500 eclairs, each with an estimated probability of success of 0.9.Its required that  450 or more eclairs succeed What is the probability of that happening?\n",
    "\n",
    "Let’s do 10,000 trials of the model, and count the number that generates at least 450 positive results \n",
    "\n"
   ]
  },
  {
   "cell_type": "code",
   "execution_count": 24,
   "metadata": {},
   "outputs": [
    {
     "data": {
      "text/plain": [
       "0.5415"
      ]
     },
     "execution_count": 24,
     "metadata": {},
     "output_type": "execute_result"
    }
   ],
   "source": [
    "sum(np.random.binomial(500, 0.9, 10000) >= 450)/10000\n"
   ]
  },
  {
   "cell_type": "markdown",
   "metadata": {},
   "source": [
    "#### <center>**Gamma Distribution**<center>"
   ]
  },
  {
   "cell_type": "markdown",
   "metadata": {},
   "source": [
    "Draw samples from a Gamma distribution.\n",
    "\n",
    "\n",
    "\n",
    "Parameters ' \n",
    "shape : float or array_like of floats. Should be > 0\n",
    "\n",
    "\n",
    "scale : float or array_like of floats, optional\n",
    "The scale of the gamma distribution. Should be greater >  zero. Default = 1.\n",
    "\n",
    "size : int or tuple of ints, optional (Output shape)\n",
    "\n",
    "Returns:\n",
    "out : ndarray or scalar\n",
    "Drawn samples from the parameterized gamma distribution. [[13](https://docs.scipy.org/doc/numpy-1.16.0/reference/generated/numpy.random.gamma.html#numpy.random.gamma)]\n",
    "\n",
    "The probability density for the Gamma distribution is\n",
    "\n",
    "$$p(x) = x^{k-1}\\frac{e^{-x/\\theta}}{\\theta^k\\Gamma(k)}$$\n",
    "\n",
    "- k is the shape \n",
    "- $\\theta$ the scale\n",
    "- $\\Gamma$ is the Gamma function."
   ]
  },
  {
   "cell_type": "markdown",
   "metadata": {},
   "source": [
    "examples of the gamma distribution in use "
   ]
  },
  {
   "cell_type": "code",
   "execution_count": 7,
   "metadata": {},
   "outputs": [
    {
     "data": {
      "image/png": "[encoded data removed]",
      "text/plain": [
       "<Figure size 432x288 with 1 Axes>"
      ]
     },
     "metadata": {
      "needs_background": "light"
     },
     "output_type": "display_data"
    }
   ],
   "source": [
    "shape = 2.\n",
    "scale = 2.  # mean=4, std=2*sqrt(2)\n",
    "s = np.random.gamma(shape, scale, 1000)\n",
    "count, bins, ignored = plt.hist(s, 50, density=True)\n"
   ]
  },
  {
   "cell_type": "markdown",
   "metadata": {},
   "source": [
    "### <center>**4. Explain the use of seeds in generating pseudorandom numbers.**<center>"
   ]
  },
  {
   "cell_type": "markdown",
   "metadata": {},
   "source": [
    "Random number or data generated by Python’s random module is not truly random, it is pseudo-random(it is PRNG), i.e. deterministic.[[14](https://pynative.com/python-random-seed/)] \n",
    "It produces the numbers from a seed value. i.e. The random module uses the seed value as a base to generate a random number.\n",
    "\n",
    "The seed value is the previous number generated by the generator. However, When the first time you use the random generator, there is no previous value. So by-default current system time is used as a seed value.\n",
    "\n",
    "If pseudo-random generator is not initialized using random.seed() the \n",
    "internally random generator call the seed function and use current system current time value as the seed value. That’s why whenever we execute random.random() we always get a different value.\n",
    "\n"
   ]
  },
  {
   "cell_type": "code",
   "execution_count": 45,
   "metadata": {},
   "outputs": [
    {
     "data": {
      "text/plain": [
       "('first - ', 29)"
      ]
     },
     "execution_count": 45,
     "metadata": {},
     "output_type": "execute_result"
    }
   ],
   "source": [
    "np.random.seed()\n",
    "\"first - \", np.random.randint(25,50)\n",
    "\n"
   ]
  },
  {
   "cell_type": "code",
   "execution_count": 46,
   "metadata": {},
   "outputs": [
    {
     "name": "stdout",
     "output_type": "stream",
     "text": [
      "Second -  27\n"
     ]
    }
   ],
   "source": [
    "\n",
    "print (\"Second - \", np.random.randint(25,50))\n",
    "\n"
   ]
  },
  {
   "cell_type": "markdown",
   "metadata": {},
   "source": [
    "If want to generate the same random number each time a seed would have to set "
   ]
  },
  {
   "cell_type": "code",
   "execution_count": 49,
   "metadata": {},
   "outputs": [
    {
     "name": "stdout",
     "output_type": "stream",
     "text": [
      "first -  30\n"
     ]
    }
   ],
   "source": [
    "np.random.seed( 30 )\n",
    "print (\"first - \", np.random.randint(25,50))\n"
   ]
  },
  {
   "cell_type": "code",
   "execution_count": 50,
   "metadata": {},
   "outputs": [
    {
     "name": "stdout",
     "output_type": "stream",
     "text": [
      "Second -  30\n"
     ]
    }
   ],
   "source": [
    "\n",
    "#will generate a same random number as previous\n",
    "np.random.seed( 30 )\n",
    "print (\"Second - \", np.random.randint(25,50))\n",
    "\n"
   ]
  },
  {
   "cell_type": "markdown",
   "metadata": {},
   "source": [
    "#### **Conclusion**\n",
    "\n",
    "From my research simple random sample advantages include ease of use and data repensetation.\n",
    "The probability distributions are a way to describe a  probability of an event. \n",
    "The probability is 0 for an impossible event and 1 for an event which is certain to occur. It's an important important in decision making or forecasting. \n"
   ]
  },
  {
   "cell_type": "markdown",
   "metadata": {},
   "source": [
    "## References "
   ]
  },
  {
   "cell_type": "markdown",
   "metadata": {},
   "source": [
    "1. Scipy.org, Numpy random uniform distribution documentation, https://docs.scipy.org/doc/numpy-1.16.0/reference/generated/numpy.random.uniform.html#numpy.random.uniform\n",
    "\n",
    "2. Stat Trek,The Normal Distribution, https://stattrek.com/probability-distributions/normal.as\n",
    "\n",
    "3. Stat Trek,Poission Distribution https://stattrek.com/probability-distributions/poisson.aspx\n",
    "\n",
    "4. Pynative, Python Random Number Generation tutorial,https://pynative.com/python-random-module/\n",
    "5. Geek for Geeks, numpy.random.randn() in Python,https://www.geeksforgeeks.org/numpy-random-randn-python/\n",
    "6. Scipy.org, numpy.random.randint, https://docs.scipy.org/doc/numpy-1.16.0/reference/generated/numpy.random.randint.html#numpy.random.randint\n",
    "7. Brad Solomon, Real Python, Generating Random Data in Python (Guide),https://realpython.com/python-random/#the-random-module\n",
    "\n",
    "8. Scipy.org,Random sampling (numpy.random), https://docs.scipy.org/doc/numpy-1.16.0/reference/routines.random.html\n",
    "9. Scipy.org,numpy.random.choice, https://docs.scipy.org/doc/numpy-1.16.0/reference/generated/numpy.random.choice.html#numpy.random.choice\n",
    "10. Open-Science, How to randomly shuffle an array in python using numpy, https://www.science-emergence.com/Articles/How-to-randomly-shuffle-an-array-in-python-using-numpy/\n",
    "\n",
    "11. Scipy.org,numpy.random.permutation,https://docs.scipy.org/doc/numpy-1.16.0/reference/generated/numpy.random.permutation.html#numpy.random.permutation\n",
    "\n",
    "12. Wolfram MathsWorld,Binomial Distribution, http://mathworld.wolfram.com/BinomialDistribution.html\n",
    "\n",
    "13. Scipy.org, numpy.random.gamma, https://docs.scipy.org/doc/numpy-1.16.0/reference/generated/numpy.random.gamma.html#numpy.random.gamma\n",
    "\n",
    "14. Pynative, Python random.seed() function to initialize the pseudo-random number generator, https://pynative.com/python-random-seed/"
   ]
  }
 ],
 "metadata": {
  "kernelspec": {
   "display_name": "Python 3",
   "language": "python",
   "name": "python3"
  },
  "language_info": {
   "codemirror_mode": {
    "name": "ipython",
    "version": 3
   },
   "file_extension": ".py",
   "mimetype": "text/x-python",
   "name": "python",
   "nbconvert_exporter": "python",
   "pygments_lexer": "ipython3",
   "version": "3.6.9"
  }
 },
 "nbformat": 4,
 "nbformat_minor": 4
}
